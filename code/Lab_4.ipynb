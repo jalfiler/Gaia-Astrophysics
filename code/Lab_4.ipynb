{
 "cells": [
  {
   "cell_type": "code",
   "execution_count": null,
   "id": "76c417ba-6bbc-4982-acb4-028fa2df3704",
   "metadata": {},
   "outputs": [],
   "source": [
    "pip install gala astroquery"
   ]
  },
  {
   "cell_type": "code",
   "execution_count": 2,
   "id": "dbf9e0e5",
   "metadata": {},
   "outputs": [],
   "source": [
    "# astropy imports\n",
    "import astropy.coordinates as coord\n",
    "from astropy.table import QTable\n",
    "import astropy.units as u\n",
    "from astroquery.gaia import Gaia\n",
    "\n",
    "# Third-party imports\n",
    "import matplotlib as mpl\n",
    "import matplotlib.pyplot as plt\n",
    "import numpy as np\n",
    "%matplotlib inline\n",
    "\n",
    "# gala imports\n",
    "import gala.coordinates as gc\n",
    "import gala.dynamics as gd\n",
    "import gala.potential as gp\n",
    "from gala.units import galactic"
   ]
  },
  {
   "cell_type": "markdown",
   "id": "43d474b3",
   "metadata": {},
   "source": [
    "We can use `Gaia.load_tables` to get the names of the tables in the Gaia database. With the option `only_names=True`, it loads information about the tables, called “metadata”, but not the data itself."
   ]
  },
  {
   "cell_type": "code",
   "execution_count": 5,
   "id": "59b7513d",
   "metadata": {},
   "outputs": [
    {
     "name": "stdout",
     "output_type": "stream",
     "text": [
      "INFO: Retrieving tables... [astroquery.utils.tap.core]\n",
      "INFO: Parsing tables... [astroquery.utils.tap.core]\n",
      "INFO: Done. [astroquery.utils.tap.core]\n"
     ]
    }
   ],
   "source": [
    "tables = Gaia.load_tables(only_names=True)"
   ]
  },
  {
   "cell_type": "markdown",
   "id": "318c3ba8",
   "metadata": {},
   "source": [
    "# Gaia DR3\n",
    "\n",
    "Rank the globular clusters in the table by the ease of separating the cluster members from the field stars, using the Gaia DR3.\n",
    "\n",
    "Here is the first example: NGC 6544. The database of each globular cluster can be explored here.\n",
    "\n",
    "Variables used: `source_id`, `ra, dec`, `parallax`, `pmra`, `pmdec`, `bp_rp`, `mh_gspphot`, `radial_velocity`, `phot_g_mean_mag`.\n",
    "\n",
    "**Clusters**: \n",
    "- NGC 6544\n",
    "- NGC 6380\n",
    "- NGC 6553\n",
    "- Terzan 12\n",
    "- FSR 1758\n",
    " \n"
   ]
  },
  {
   "cell_type": "code",
   "execution_count": null,
   "id": "864216f2-17d5-4f20-8518-95feca92907d",
   "metadata": {},
   "outputs": [],
   "source": []
  }
 ],
 "metadata": {
  "kernelspec": {
   "display_name": "Python 3 (ipykernel)",
   "language": "python",
   "name": "python3"
  },
  "language_info": {
   "codemirror_mode": {
    "name": "ipython",
    "version": 3
   },
   "file_extension": ".py",
   "mimetype": "text/x-python",
   "name": "python",
   "nbconvert_exporter": "python",
   "pygments_lexer": "ipython3",
   "version": "3.9.7"
  }
 },
 "nbformat": 4,
 "nbformat_minor": 5
}
