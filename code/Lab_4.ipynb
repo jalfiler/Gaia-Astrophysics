{
 "cells": [
  {
   "cell_type": "code",
   "execution_count": 1,
   "id": "a73c8ed4",
   "metadata": {
    "scrolled": true
   },
   "outputs": [
    {
     "name": "stdout",
     "output_type": "stream",
     "text": [
      "Requirement already satisfied: gala in /Users/jomaicaalfiler/opt/anaconda3/lib/python3.9/site-packages (1.5)\n",
      "Requirement already satisfied: astroquery in /Users/jomaicaalfiler/opt/anaconda3/lib/python3.9/site-packages (0.4.6)\n",
      "Requirement already satisfied: cython>=0.29 in /Users/jomaicaalfiler/opt/anaconda3/lib/python3.9/site-packages (from gala) (0.29.24)\n",
      "Requirement already satisfied: scipy>=1.6 in /Users/jomaicaalfiler/opt/anaconda3/lib/python3.9/site-packages (from gala) (1.7.3)\n",
      "Requirement already satisfied: packaging in /Users/jomaicaalfiler/opt/anaconda3/lib/python3.9/site-packages (from gala) (21.0)\n",
      "Requirement already satisfied: numpy>=1.20 in /Users/jomaicaalfiler/opt/anaconda3/lib/python3.9/site-packages (from gala) (1.20.3)\n",
      "Requirement already satisfied: pyyaml in /Users/jomaicaalfiler/opt/anaconda3/lib/python3.9/site-packages (from gala) (6.0)\n",
      "Requirement already satisfied: astropy>=4.2 in /Users/jomaicaalfiler/opt/anaconda3/lib/python3.9/site-packages (from gala) (4.3.1)\n",
      "Requirement already satisfied: pyvo>=1.1 in /Users/jomaicaalfiler/opt/anaconda3/lib/python3.9/site-packages (from astroquery) (1.3)\n",
      "Requirement already satisfied: beautifulsoup4>=4.3.2 in /Users/jomaicaalfiler/opt/anaconda3/lib/python3.9/site-packages (from astroquery) (4.10.0)\n",
      "Requirement already satisfied: html5lib>=0.999 in /Users/jomaicaalfiler/opt/anaconda3/lib/python3.9/site-packages (from astroquery) (1.1)\n",
      "Requirement already satisfied: requests>=2.4.3 in /Users/jomaicaalfiler/opt/anaconda3/lib/python3.9/site-packages (from astroquery) (2.26.0)\n",
      "Requirement already satisfied: keyring>=4.0 in /Users/jomaicaalfiler/opt/anaconda3/lib/python3.9/site-packages (from astroquery) (23.1.0)\n",
      "Requirement already satisfied: pyerfa>=1.7.3 in /Users/jomaicaalfiler/opt/anaconda3/lib/python3.9/site-packages (from astropy>=4.2->gala) (2.0.0)\n",
      "Requirement already satisfied: soupsieve>1.2 in /Users/jomaicaalfiler/opt/anaconda3/lib/python3.9/site-packages (from beautifulsoup4>=4.3.2->astroquery) (2.2.1)\n",
      "Requirement already satisfied: webencodings in /Users/jomaicaalfiler/opt/anaconda3/lib/python3.9/site-packages (from html5lib>=0.999->astroquery) (0.5.1)\n",
      "Requirement already satisfied: six>=1.9 in /Users/jomaicaalfiler/opt/anaconda3/lib/python3.9/site-packages (from html5lib>=0.999->astroquery) (1.16.0)\n",
      "Requirement already satisfied: importlib-metadata>=3.6 in /Users/jomaicaalfiler/opt/anaconda3/lib/python3.9/site-packages (from keyring>=4.0->astroquery) (4.8.1)\n",
      "Requirement already satisfied: zipp>=0.5 in /Users/jomaicaalfiler/opt/anaconda3/lib/python3.9/site-packages (from importlib-metadata>=3.6->keyring>=4.0->astroquery) (3.6.0)\n",
      "Requirement already satisfied: certifi>=2017.4.17 in /Users/jomaicaalfiler/opt/anaconda3/lib/python3.9/site-packages (from requests>=2.4.3->astroquery) (2021.10.8)\n",
      "Requirement already satisfied: charset-normalizer~=2.0.0 in /Users/jomaicaalfiler/opt/anaconda3/lib/python3.9/site-packages (from requests>=2.4.3->astroquery) (2.0.4)\n",
      "Requirement already satisfied: idna<4,>=2.5 in /Users/jomaicaalfiler/opt/anaconda3/lib/python3.9/site-packages (from requests>=2.4.3->astroquery) (3.2)\n",
      "Requirement already satisfied: urllib3<1.27,>=1.21.1 in /Users/jomaicaalfiler/opt/anaconda3/lib/python3.9/site-packages (from requests>=2.4.3->astroquery) (1.26.7)\n",
      "Requirement already satisfied: pyparsing>=2.0.2 in /Users/jomaicaalfiler/opt/anaconda3/lib/python3.9/site-packages (from packaging->gala) (3.0.4)\n",
      "\u001b[33mWARNING: You are using pip version 22.0.3; however, version 22.1.2 is available.\n",
      "You should consider upgrading via the '/Users/jomaicaalfiler/opt/anaconda3/bin/python -m pip install --upgrade pip' command.\u001b[0m\n",
      "Note: you may need to restart the kernel to use updated packages.\n"
     ]
    }
   ],
   "source": [
    "pip install gala astroquery"
   ]
  },
  {
   "cell_type": "code",
   "execution_count": 2,
   "id": "dbf9e0e5",
   "metadata": {},
   "outputs": [],
   "source": [
    "# astropy imports\n",
    "import astropy.coordinates as coord\n",
    "from astropy.table import QTable\n",
    "import astropy.units as u\n",
    "from astroquery.gaia import Gaia\n",
    "\n",
    "# Third-party imports\n",
    "import matplotlib as mpl\n",
    "import matplotlib.pyplot as plt\n",
    "import numpy as np\n",
    "%matplotlib inline\n",
    "\n",
    "# gala imports\n",
    "import gala.coordinates as gc\n",
    "import gala.dynamics as gd\n",
    "import gala.potential as gp\n",
    "from gala.units import galactic"
   ]
  },
  {
   "cell_type": "markdown",
   "id": "43d474b3",
   "metadata": {},
   "source": [
    "### We can use `Gaia.load_tables` to get the names of the tables in the Gaia database. With the option `only_names=True`, it loads information about the tables, called “metadata”, but not the data itself."
   ]
  },
  {
   "cell_type": "code",
   "execution_count": 5,
   "id": "59b7513d",
   "metadata": {},
   "outputs": [
    {
     "name": "stdout",
     "output_type": "stream",
     "text": [
      "INFO: Retrieving tables... [astroquery.utils.tap.core]\n",
      "INFO: Parsing tables... [astroquery.utils.tap.core]\n",
      "INFO: Done. [astroquery.utils.tap.core]\n"
     ]
    }
   ],
   "source": [
    "tables = Gaia.load_tables(only_names=True)"
   ]
  },
  {
   "cell_type": "markdown",
   "id": "318c3ba8",
   "metadata": {},
   "source": [
    "# Gaia DR3\n",
    "\n",
    "Rank the globular clusters in the table by the ease of separating the cluster members from the field stars, using the Gaia DR3.\n",
    "\n",
    "Here is the first example: NGC 6544. The database of each globular cluster can be explored here.\n",
    "\n",
    "Variables used: `source_id`, `ra, dec`, `parallax`, `pmra`, `pmdec`, `bp_rp`, `mh_gspphot`, `radial_velocity`, `phot_g_mean_mag`.\n",
    "\n",
    "**Clusters**: \n",
    "- NGC 6544\n",
    "- NGC 6380\n",
    "- NGC 6553\n",
    "- Terzan 12\n",
    "- FSR 1758\n",
    " \n"
   ]
  },
  {
   "cell_type": "code",
   "execution_count": null,
   "id": "864216f2-17d5-4f20-8518-95feca92907d",
   "metadata": {},
   "outputs": [],
   "source": []
  }
 ],
 "metadata": {
  "kernelspec": {
   "display_name": "Python 3 (ipykernel)",
   "language": "python",
   "name": "python3"
  },
  "language_info": {
   "codemirror_mode": {
    "name": "ipython",
    "version": 3
   },
   "file_extension": ".py",
   "mimetype": "text/x-python",
   "name": "python",
   "nbconvert_exporter": "python",
   "pygments_lexer": "ipython3",
   "version": "3.9.7"
  }
 },
 "nbformat": 4,
 "nbformat_minor": 5
}
